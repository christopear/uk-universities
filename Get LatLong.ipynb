{
 "cells": [
  {
   "cell_type": "code",
   "execution_count": 2,
   "metadata": {},
   "outputs": [
    {
     "data": {
      "text/plain": [
       "True"
      ]
     },
     "execution_count": 2,
     "metadata": {},
     "output_type": "execute_result"
    }
   ],
   "source": [
    "import googlemaps\n",
    "from datetime import datetime\n",
    "from dotenv import load_dotenv\n",
    "import os\n",
    "import pandas as pd\n",
    "\n",
    "load_dotenv()\n"
   ]
  },
  {
   "cell_type": "code",
   "execution_count": 4,
   "metadata": {},
   "outputs": [
    {
     "data": {
      "text/html": [
       "<div>\n",
       "<style scoped>\n",
       "    .dataframe tbody tr th:only-of-type {\n",
       "        vertical-align: middle;\n",
       "    }\n",
       "\n",
       "    .dataframe tbody tr th {\n",
       "        vertical-align: top;\n",
       "    }\n",
       "\n",
       "    .dataframe thead th {\n",
       "        text-align: right;\n",
       "    }\n",
       "</style>\n",
       "<table border=\"1\" class=\"dataframe\">\n",
       "  <thead>\n",
       "    <tr style=\"text-align: right;\">\n",
       "      <th></th>\n",
       "      <th>world_rank</th>\n",
       "      <th>institution</th>\n",
       "      <th>country</th>\n",
       "      <th>national_rank</th>\n",
       "      <th>quality_of_education</th>\n",
       "      <th>alumni_employment</th>\n",
       "      <th>quality_of_faculty</th>\n",
       "      <th>publications</th>\n",
       "      <th>influence</th>\n",
       "      <th>citations</th>\n",
       "      <th>broad_impact</th>\n",
       "      <th>patents</th>\n",
       "      <th>score</th>\n",
       "      <th>year</th>\n",
       "      <th>Location</th>\n",
       "    </tr>\n",
       "  </thead>\n",
       "  <tbody>\n",
       "    <tr>\n",
       "      <th>3</th>\n",
       "      <td>4</td>\n",
       "      <td>University of Cambridge</td>\n",
       "      <td>United Kingdom</td>\n",
       "      <td>1</td>\n",
       "      <td>10</td>\n",
       "      <td>24</td>\n",
       "      <td>4</td>\n",
       "      <td>16</td>\n",
       "      <td>16</td>\n",
       "      <td>11</td>\n",
       "      <td>NaN</td>\n",
       "      <td>50</td>\n",
       "      <td>86.17</td>\n",
       "      <td>2012</td>\n",
       "      <td>University of Cambridge, United Kingdom</td>\n",
       "    </tr>\n",
       "    <tr>\n",
       "      <th>6</th>\n",
       "      <td>7</td>\n",
       "      <td>University of Oxford</td>\n",
       "      <td>United Kingdom</td>\n",
       "      <td>2</td>\n",
       "      <td>13</td>\n",
       "      <td>28</td>\n",
       "      <td>9</td>\n",
       "      <td>15</td>\n",
       "      <td>13</td>\n",
       "      <td>19</td>\n",
       "      <td>NaN</td>\n",
       "      <td>26</td>\n",
       "      <td>82.34</td>\n",
       "      <td>2012</td>\n",
       "      <td>University of Oxford, United Kingdom</td>\n",
       "    </tr>\n",
       "    <tr>\n",
       "      <th>27</th>\n",
       "      <td>28</td>\n",
       "      <td>Imperial College London</td>\n",
       "      <td>United Kingdom</td>\n",
       "      <td>3</td>\n",
       "      <td>84</td>\n",
       "      <td>73</td>\n",
       "      <td>35</td>\n",
       "      <td>26</td>\n",
       "      <td>26</td>\n",
       "      <td>29</td>\n",
       "      <td>NaN</td>\n",
       "      <td>41</td>\n",
       "      <td>57.53</td>\n",
       "      <td>2012</td>\n",
       "      <td>Imperial College London, United Kingdom</td>\n",
       "    </tr>\n",
       "    <tr>\n",
       "      <th>30</th>\n",
       "      <td>31</td>\n",
       "      <td>University College London</td>\n",
       "      <td>United Kingdom</td>\n",
       "      <td>4</td>\n",
       "      <td>35</td>\n",
       "      <td>101</td>\n",
       "      <td>45</td>\n",
       "      <td>27</td>\n",
       "      <td>23</td>\n",
       "      <td>33</td>\n",
       "      <td>NaN</td>\n",
       "      <td>86</td>\n",
       "      <td>55.21</td>\n",
       "      <td>2012</td>\n",
       "      <td>University College London, United Kingdom</td>\n",
       "    </tr>\n",
       "    <tr>\n",
       "      <th>59</th>\n",
       "      <td>60</td>\n",
       "      <td>University of Edinburgh</td>\n",
       "      <td>United Kingdom</td>\n",
       "      <td>1</td>\n",
       "      <td>71</td>\n",
       "      <td>101</td>\n",
       "      <td>43</td>\n",
       "      <td>64</td>\n",
       "      <td>41</td>\n",
       "      <td>70</td>\n",
       "      <td>NaN</td>\n",
       "      <td>101</td>\n",
       "      <td>48.43</td>\n",
       "      <td>2012</td>\n",
       "      <td>University of Edinburgh, United Kingdom</td>\n",
       "    </tr>\n",
       "  </tbody>\n",
       "</table>\n",
       "</div>"
      ],
      "text/plain": [
       "    world_rank                institution         country  national_rank  \\\n",
       "3            4    University of Cambridge  United Kingdom              1   \n",
       "6            7       University of Oxford  United Kingdom              2   \n",
       "27          28    Imperial College London  United Kingdom              3   \n",
       "30          31  University College London  United Kingdom              4   \n",
       "59          60    University of Edinburgh  United Kingdom              1   \n",
       "\n",
       "    quality_of_education  alumni_employment  quality_of_faculty  publications  \\\n",
       "3                     10                 24                   4            16   \n",
       "6                     13                 28                   9            15   \n",
       "27                    84                 73                  35            26   \n",
       "30                    35                101                  45            27   \n",
       "59                    71                101                  43            64   \n",
       "\n",
       "    influence  citations  broad_impact  patents  score  year  \\\n",
       "3          16         11           NaN       50  86.17  2012   \n",
       "6          13         19           NaN       26  82.34  2012   \n",
       "27         26         29           NaN       41  57.53  2012   \n",
       "30         23         33           NaN       86  55.21  2012   \n",
       "59         41         70           NaN      101  48.43  2012   \n",
       "\n",
       "                                     Location  \n",
       "3     University of Cambridge, United Kingdom  \n",
       "6        University of Oxford, United Kingdom  \n",
       "27    Imperial College London, United Kingdom  \n",
       "30  University College London, United Kingdom  \n",
       "59    University of Edinburgh, United Kingdom  "
      ]
     },
     "execution_count": 4,
     "metadata": {},
     "output_type": "execute_result"
    }
   ],
   "source": [
    "rank = pd.read_csv('data/rankings.csv').drop_duplicates()\n",
    "uk = rank[rank['country'] == 'United Kingdom'].copy()\n",
    "\n",
    "uk['Location'] = uk['institution'].apply(lambda x: x + \", United Kingdom\")\n",
    "\n",
    "uk.head()\n"
   ]
  },
  {
   "cell_type": "code",
   "execution_count": 5,
   "metadata": {},
   "outputs": [],
   "source": [
    "def get_locations(location_list):\n",
    "    retter = []\n",
    "    gmaps = googlemaps.Client(key=os.environ.get('GOOGLE_MAP_API_KEY'))\n",
    "\n",
    "    for loc in location_list:\n",
    "        try:\n",
    "            # Geocoding an address\n",
    "            geocode_result = gmaps.geocode(loc)\n",
    "            retter.append(geocode_result[0]['geometry']['location'])\n",
    "        except:\n",
    "            retter.append(None)\n",
    "\n",
    "    return retter\n",
    "\n",
    "locs = get_locations(uk['Location'])"
   ]
  },
  {
   "cell_type": "code",
   "execution_count": 11,
   "metadata": {},
   "outputs": [],
   "source": [
    "loc_df = pd.DataFrame(locs)"
   ]
  },
  {
   "cell_type": "code",
   "execution_count": 13,
   "metadata": {},
   "outputs": [
    {
     "name": "stdout",
     "output_type": "stream",
     "text": [
      "(144, 2)\n",
      "(144, 15)\n"
     ]
    }
   ],
   "source": [
    "print(loc_df.shape)\n",
    "print(uk.shape)"
   ]
  },
  {
   "cell_type": "code",
   "execution_count": 18,
   "metadata": {},
   "outputs": [],
   "source": [
    "uk2 = pd.concat([uk.reset_index(drop=True), loc_df.reset_index(drop=True)],axis=1)"
   ]
  },
  {
   "cell_type": "code",
   "execution_count": 21,
   "metadata": {},
   "outputs": [],
   "source": [
    "uk2.to_csv('data/rankings2.csv')"
   ]
  }
 ],
 "metadata": {
  "kernelspec": {
   "display_name": "Python 3",
   "language": "python",
   "name": "python3"
  },
  "language_info": {
   "codemirror_mode": {
    "name": "ipython",
    "version": 3
   },
   "file_extension": ".py",
   "mimetype": "text/x-python",
   "name": "python",
   "nbconvert_exporter": "python",
   "pygments_lexer": "ipython3",
   "version": "3.7.3"
  }
 },
 "nbformat": 4,
 "nbformat_minor": 2
}
